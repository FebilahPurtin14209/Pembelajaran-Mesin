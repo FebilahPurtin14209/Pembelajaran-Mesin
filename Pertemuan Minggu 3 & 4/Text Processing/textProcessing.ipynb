{
  "cells": [
    {
      "cell_type": "markdown",
      "metadata": {
        "id": "gs3TnSf6Gu0F"
      },
      "source": [
        "Analitika Media Sosial\n",
        "==============\n",
        "***Febilah Purtin / A11.2022.14209***\n",
        "=============================\n",
        "***Petunjuk Menggunakan Reguler Expresion***\n",
        "\n",
        "***Universitas Dian Nuswantoro 2022***\n",
        "\n",
        "---"
      ]
    },
    {
      "cell_type": "markdown",
      "metadata": {
        "id": "S8Fgz0iZGu0G"
      },
      "source": [
        "### Mengenal String dalam Python\n",
        "Sebelum menggunakan library untuk text pre procesing, lebih baik jika mengenal type string dalam python."
      ]
    },
    {
      "cell_type": "code",
      "execution_count": 1,
      "metadata": {
        "colab": {
          "base_uri": "https://localhost:8080/"
        },
        "id": "vqa3DAh8Gu0H",
        "outputId": "83817739-b37e-4252-d2d0-02be09b93c9c"
      },
      "outputs": [
        {
          "output_type": "stream",
          "name": "stdout",
          "text": [
            "22\n"
          ]
        }
      ],
      "source": [
        "word = 'Analitika Media Sosial'\n",
        "print(len(word))"
      ]
    },
    {
      "cell_type": "code",
      "execution_count": 2,
      "metadata": {
        "colab": {
          "base_uri": "https://localhost:8080/"
        },
        "id": "5E5iZtHOGu0H",
        "outputId": "2426a588-3624-4dbc-b835-aa46e664efb0"
      },
      "outputs": [
        {
          "output_type": "stream",
          "name": "stdout",
          "text": [
            "6\n"
          ]
        }
      ],
      "source": [
        "multiline = '''1\n",
        "2\n",
        "3\n",
        "'''\n",
        "print(len(multiline))"
      ]
    },
    {
      "cell_type": "code",
      "execution_count": 3,
      "metadata": {
        "colab": {
          "base_uri": "https://localhost:8080/"
        },
        "id": "wH5Ct7Y1Gu0H",
        "outputId": "45dc6721-76ea-4150-dd37-ce6841b3ef74"
      },
      "outputs": [
        {
          "output_type": "stream",
          "name": "stdout",
          "text": [
            "12\n"
          ]
        }
      ],
      "source": [
        "str1 = '1'\n",
        "str2 = '2'\n",
        "\n",
        "print(str1 + str2)"
      ]
    },
    {
      "cell_type": "code",
      "execution_count": 4,
      "metadata": {
        "colab": {
          "base_uri": "https://localhost:8080/"
        },
        "id": "-w-ZMR-oGu0I",
        "outputId": "c947380b-9438-42a1-dc00-675f6c8204d9"
      },
      "outputs": [
        {
          "output_type": "stream",
          "name": "stdout",
          "text": [
            "97\n",
            "32\n",
            "65\n"
          ]
        }
      ],
      "source": [
        "ch1 = 'a'\n",
        "ch2 = ' ' #space\n",
        "ch3 = 'A'\n",
        "\n",
        "print(ord(ch1))\n",
        "print(ord(ch2))\n",
        "print(ord(ch3))"
      ]
    },
    {
      "cell_type": "code",
      "execution_count": 5,
      "metadata": {
        "colab": {
          "base_uri": "https://localhost:8080/"
        },
        "id": "hgH8Y_4zGu0I",
        "outputId": "b3bee3f4-99ce-44f9-dd30-9e00cc2acecd"
      },
      "outputs": [
        {
          "output_type": "stream",
          "name": "stdout",
          "text": [
            "A\n"
          ]
        }
      ],
      "source": [
        "print(chr(65))"
      ]
    },
    {
      "cell_type": "code",
      "execution_count": 6,
      "metadata": {
        "colab": {
          "base_uri": "https://localhost:8080/"
        },
        "id": "hHykDLs4Gu0I",
        "outputId": "ac509bf9-425c-4a9e-8cd8-cd15c6b8d1f6"
      },
      "outputs": [
        {
          "output_type": "stream",
          "name": "stdout",
          "text": [
            "nltk Md Ssl"
          ]
        }
      ],
      "source": [
        "cthString=\"Analitika Media Sosial\"\n",
        "vokal = ['a','i','u','e','o']\n",
        "\n",
        "for i in range(len(cthString)):\n",
        "    if cthString[i].lower() in vokal:\n",
        "        continue\n",
        "    print(cthString[i], end=\"\")"
      ]
    },
    {
      "cell_type": "code",
      "execution_count": 7,
      "metadata": {
        "colab": {
          "base_uri": "https://localhost:8080/"
        },
        "id": "6GutDk_zGu0I",
        "outputId": "efddf081-3773-4b05-ee7d-3a9f0c563d70"
      },
      "outputs": [
        {
          "output_type": "stream",
          "name": "stdout",
          "text": [
            "nt iol\n",
            "nali\n",
            "litika Media Sosial\n",
            "Ana\n",
            "AaiiaMdaSsa\n"
          ]
        }
      ],
      "source": [
        "cthSlice = \"Analitika Media Sosial\"\n",
        "\n",
        "print(cthSlice[1::4])\n",
        "print(cthSlice[1:5])\n",
        "print(cthSlice[3:])\n",
        "print(cthSlice[:3])\n",
        "print(cthSlice[::2])"
      ]
    },
    {
      "cell_type": "code",
      "execution_count": null,
      "metadata": {
        "id": "0WTAKXQ0Gu0I"
      },
      "outputs": [],
      "source": [
        "alphabet = 'abcdefghijklmnopqrstuvwxyz'\n",
        "\n",
        "print(alphabet[1])\n",
        "del alphabet[0]"
      ]
    },
    {
      "cell_type": "code",
      "execution_count": null,
      "metadata": {
        "id": "AAL88aw2Gu0I"
      },
      "outputs": [],
      "source": [
        "alphabet.insert(\"A\")"
      ]
    },
    {
      "cell_type": "code",
      "execution_count": 13,
      "metadata": {
        "colab": {
          "base_uri": "https://localhost:8080/"
        },
        "id": "VnjEvAg6Gu0I",
        "outputId": "944f0435-411b-4e41-b029-310c0ee3d225"
      },
      "outputs": [
        {
          "output_type": "stream",
          "name": "stdout",
          "text": [
            "A\n"
          ]
        }
      ],
      "source": [
        "print(min(\"aAbByYzZ\"))"
      ]
    },
    {
      "cell_type": "code",
      "execution_count": 12,
      "metadata": {
        "colab": {
          "base_uri": "https://localhost:8080/"
        },
        "id": "0gOZOxsYGu0I",
        "outputId": "ee9b0c6f-599d-4650-95e3-b42a3355cd9d"
      },
      "outputs": [
        {
          "output_type": "stream",
          "name": "stdout",
          "text": [
            "3\n"
          ]
        }
      ],
      "source": [
        "t = \"theta\"\n",
        "print(t.find('ta'))"
      ]
    },
    {
      "cell_type": "code",
      "execution_count": 14,
      "metadata": {
        "colab": {
          "base_uri": "https://localhost:8080/"
        },
        "id": "Y7kPGhSCGu0J",
        "outputId": "4798d757-4837-4fa3-b599-9ae243166003"
      },
      "outputs": [
        {
          "output_type": "stream",
          "name": "stdout",
          "text": [
            "15\n",
            "80\n",
            "198\n",
            "221\n",
            "238\n"
          ]
        }
      ],
      "source": [
        "txt = \"\"\"A variation of the ordinary lorem ipsum\n",
        "text has been used in typesetting since the 1960s\n",
        "or earlier, when it was popularized by advertisements\n",
        "for Letraset transfer sheets. It was introduced to\n",
        "the Information Age in the mid-1980s by the Aldus Corporation,\n",
        "which employed it in graphics and word-processing templates\n",
        "for its desktop publishing program PageMaker (from Wikipedia)\"\"\"\n",
        "\n",
        "fnd = txt.find('the')\n",
        "while fnd != -1:\n",
        "    print(fnd)\n",
        "    fnd = txt.find('the', fnd + 1)"
      ]
    },
    {
      "cell_type": "markdown",
      "metadata": {
        "id": "lGDsubwDGu0J"
      },
      "source": [
        "#### 1. Some of the methods offered by strings are:\n",
        "\n",
        "- `capitalize()` – changes all string letters to capitals;\n",
        "- `center()` – centers the string inside the field of a known length;\n",
        "- `count()` – counts the occurrences of a given character;\n",
        "- `join()` – joins all items of a tuple/list into one string;\n",
        "- `lower()` – converts all the string's letters into lower-case letters;\n",
        "- `lstrip()` – removes the white characters from the beginning of the string;\n",
        "- `replace()` – replaces a given substring with another;\n",
        "- `rfind()` – finds a substring starting from the end of the string;\n",
        "- `rstrip()` – removes the trailing white spaces from the end of the string;\n",
        "- `split()` – splits the string into a substring using a given delimiter;\n",
        "- `strip()` – removes the leading and trailing white spaces;\n",
        "- `swapcase()` – swaps the letters' cases (lower to upper and vice versa)\n",
        "- `title()` – makes the first letter in each word upper-case;\n",
        "- `upper()` – converts all the string's letter into upper-case letters.\n",
        "\n",
        "#### 2. String content can be determined using the following methods (all of them return Boolean values):\n",
        "\n",
        "- `endswith()` – does the string end with a given substring?\n",
        "- `isalnum()` – does the string consist only of letters and digits?\n",
        "- `isalpha()` – does the string consist only of letters?\n",
        "- `islower()` – does the string consists only of lower-case letters?\n",
        "- `isspace()` – does the string consists only of white spaces?\n",
        "- `isupper()` – does the string consists only of upper-case letters?\n",
        "- `startswith()` – does the string begin with a given substring?"
      ]
    },
    {
      "cell_type": "markdown",
      "metadata": {
        "id": "M2rzOW8tGu0J"
      },
      "source": [
        "# Table of contents\n",
        "- [Cleaning Words](#cleaning-words)\n",
        "    - [import library](#import-library)\n",
        "    - [remove tab new line and back slice](#remove-tab-new-line-and-back-slice)\n",
        "    - [remove non ASCII emoticon chinese word](#remove-non-ASCII-emoticon-chinese-word)\n",
        "    - [remove mention link hashtag](#remove-mention-link-hashtag)\n",
        "    - [remove RT](#remove-rt)\n",
        "    - [lower](#lower)\n",
        "    - [remove incomplete url](#remove-incomplete-url)\n",
        "    - [remove number](#remove-number)\n",
        "    - [remove whitespace leading and trailing](#remove-whitespace-leading-and-trailing)\n",
        "    - [remove multiple whitespace into single whitespace](#remove-multiple-whitespace-into-single-whitespace)\n",
        "    - [remove single char](#remove-single-char)\n",
        "    - [remove excessive dot](#remove-excessive-dot)\n",
        "    - [remove punctuation](#remove-punctuation)\n",
        "    - [remove excessive whitespace](#remove-excessive-whitespace)"
      ]
    },
    {
      "cell_type": "markdown",
      "metadata": {
        "id": "3vaFkbELGu0J"
      },
      "source": [
        "# Cleaning Words <a name=\"cleaning-words\"></a>\n",
        "\n",
        "asumsikan kita sudah mendapat data dari twitter, kemudian kita ingin membersihkan datanya. Maka, kita bisa menggunakan `regular expression`\n",
        "\n",
        "sebagai contoh:\n",
        "\n",
        "`RT : @alzami1986 suka menonton Attack on Titans! (進撃の巨人) #aot  setiap kamis pukul 21.00 di http://netflix.com/aot . \\\\n meski tidak suka kekerasan, tapi cukup menikmati ?! #EldiaHarusMenang melawan #Marley  A ... `"
      ]
    },
    {
      "cell_type": "code",
      "execution_count": 15,
      "metadata": {
        "id": "cz8E9xNeGu0J"
      },
      "outputs": [],
      "source": [
        "text = 'RT : @alzami1986 suka menonton Attack on Titans! (進撃の巨人) #aot  setiap kamis pukul 21.00 di http://netflix.com/aot . \\\\n meski tidak suka kekerasan, tapi cukup menikmati ?! #EldiaHarusMenang melawan #Marley  A ...'"
      ]
    },
    {
      "cell_type": "code",
      "execution_count": 16,
      "metadata": {
        "colab": {
          "base_uri": "https://localhost:8080/"
        },
        "id": "uJEPvrcYGu0J",
        "outputId": "9559f701-e7aa-4b90-a373-f27563f5ea3b"
      },
      "outputs": [
        {
          "output_type": "stream",
          "name": "stdout",
          "text": [
            "RT : @alzami1986 suka menonton Attack on Titans! (進撃の巨人) #aot  setiap kamis pukul 21.00 di http://netflix.com/aot . \\n meski tidak suka kekerasan, tapi cukup menikmati ?! #EldiaHarusMenang melawan #Marley  A ...\n"
          ]
        }
      ],
      "source": [
        "print(text)"
      ]
    },
    {
      "cell_type": "markdown",
      "metadata": {
        "id": "fPGZJMQ-Gu0J"
      },
      "source": [
        "## import library <a name=\"import-library\"></a>"
      ]
    },
    {
      "cell_type": "code",
      "execution_count": 17,
      "metadata": {
        "id": "MtfG0HOOGu0K"
      },
      "outputs": [],
      "source": [
        "import re\n",
        "import string\n",
        "import time\n",
        "from copy import deepcopy"
      ]
    },
    {
      "cell_type": "markdown",
      "metadata": {
        "id": "eCIsJ2TZGu0K"
      },
      "source": [
        "## remove tab new line and back slice  <a name=\"remove-tab-new-line-and-back-slice\"></a>"
      ]
    },
    {
      "cell_type": "code",
      "execution_count": 18,
      "metadata": {
        "id": "RP-YNpPeGu0K"
      },
      "outputs": [],
      "source": [
        "hasil = text.replace('\\\\t',\" \").replace('\\\\n',\" \").replace('\\\\u',\" \").replace('\\\\',\"\")"
      ]
    },
    {
      "cell_type": "code",
      "execution_count": 19,
      "metadata": {
        "colab": {
          "base_uri": "https://localhost:8080/",
          "height": 53
        },
        "id": "o1Fp5mJlGu0K",
        "outputId": "ee860b77-6678-4c68-878e-d0add355ebb1"
      },
      "outputs": [
        {
          "output_type": "execute_result",
          "data": {
            "text/plain": [
              "'RT : @alzami1986 suka menonton Attack on Titans! (進撃の巨人) #aot  setiap kamis pukul 21.00 di http://netflix.com/aot .   meski tidak suka kekerasan, tapi cukup menikmati ?! #EldiaHarusMenang melawan #Marley  A ...'"
            ],
            "application/vnd.google.colaboratory.intrinsic+json": {
              "type": "string"
            }
          },
          "metadata": {},
          "execution_count": 19
        }
      ],
      "source": [
        "hasil"
      ]
    },
    {
      "cell_type": "markdown",
      "metadata": {
        "id": "vtPyL3qPGu0K"
      },
      "source": [
        "## remove non ASCII emoticon chinese word <a name=\"remove-non-ASCII-emoticon-chinese-word\"></a>"
      ]
    },
    {
      "cell_type": "code",
      "execution_count": 20,
      "metadata": {
        "id": "PLdD9R5yGu0K"
      },
      "outputs": [],
      "source": [
        "hasil = hasil.encode('ascii', 'replace').decode('ascii')"
      ]
    },
    {
      "cell_type": "code",
      "execution_count": 21,
      "metadata": {
        "colab": {
          "base_uri": "https://localhost:8080/",
          "height": 53
        },
        "id": "xyYLxkp4Gu0K",
        "outputId": "8b95c098-463c-4c0b-e21d-c814bfa18338"
      },
      "outputs": [
        {
          "output_type": "execute_result",
          "data": {
            "text/plain": [
              "'RT : @alzami1986 suka menonton Attack on Titans! (?????) #aot  setiap kamis pukul 21.00 di http://netflix.com/aot .   meski tidak suka kekerasan, tapi cukup menikmati ?! #EldiaHarusMenang melawan #Marley  A ...'"
            ],
            "application/vnd.google.colaboratory.intrinsic+json": {
              "type": "string"
            }
          },
          "metadata": {},
          "execution_count": 21
        }
      ],
      "source": [
        "hasil"
      ]
    },
    {
      "cell_type": "markdown",
      "metadata": {
        "id": "g3zogS32Gu0K"
      },
      "source": [
        "## remove mention, link, hashtag <a name=\"remove-mention-link-hashtag\"></a>"
      ]
    },
    {
      "cell_type": "code",
      "execution_count": 22,
      "metadata": {
        "id": "AfcZhJS1Gu0K"
      },
      "outputs": [],
      "source": [
        "hasil = ' '.join(re.sub(\"([@#][A-Za-z0-9]+)|(\\w+:\\/\\/\\S+)\",\" \", hasil).split())"
      ]
    },
    {
      "cell_type": "code",
      "execution_count": 23,
      "metadata": {
        "colab": {
          "base_uri": "https://localhost:8080/",
          "height": 36
        },
        "id": "L8MoDmlwGu0K",
        "outputId": "f9131bf5-cd32-4869-de47-fd187fc9ea79"
      },
      "outputs": [
        {
          "output_type": "execute_result",
          "data": {
            "text/plain": [
              "'RT : suka menonton Attack on Titans! (?????) setiap kamis pukul 21.00 di . meski tidak suka kekerasan, tapi cukup menikmati ?! melawan A ...'"
            ],
            "application/vnd.google.colaboratory.intrinsic+json": {
              "type": "string"
            }
          },
          "metadata": {},
          "execution_count": 23
        }
      ],
      "source": [
        "hasil"
      ]
    },
    {
      "cell_type": "markdown",
      "metadata": {
        "id": "zeuvQCAXGu0L"
      },
      "source": [
        "## remove RT <a name=\"remove-rt\"></a>"
      ]
    },
    {
      "cell_type": "code",
      "execution_count": 24,
      "metadata": {
        "id": "6bibMpXqGu0L"
      },
      "outputs": [],
      "source": [
        "hasil = hasil.replace('RT : ',\"\")"
      ]
    },
    {
      "cell_type": "code",
      "execution_count": 25,
      "metadata": {
        "colab": {
          "base_uri": "https://localhost:8080/",
          "height": 36
        },
        "id": "ctAY_jTtGu0L",
        "outputId": "c68bbba7-476d-436d-8d95-888c6385debd"
      },
      "outputs": [
        {
          "output_type": "execute_result",
          "data": {
            "text/plain": [
              "'suka menonton Attack on Titans! (?????) setiap kamis pukul 21.00 di . meski tidak suka kekerasan, tapi cukup menikmati ?! melawan A ...'"
            ],
            "application/vnd.google.colaboratory.intrinsic+json": {
              "type": "string"
            }
          },
          "metadata": {},
          "execution_count": 25
        }
      ],
      "source": [
        "hasil"
      ]
    },
    {
      "cell_type": "markdown",
      "metadata": {
        "id": "NJGuoJOUGu0L"
      },
      "source": [
        "## lower <a name=\"lower\"></a>"
      ]
    },
    {
      "cell_type": "code",
      "execution_count": 26,
      "metadata": {
        "id": "qOmXfCQcGu0L"
      },
      "outputs": [],
      "source": [
        "hasil = hasil.lower()"
      ]
    },
    {
      "cell_type": "code",
      "execution_count": 27,
      "metadata": {
        "colab": {
          "base_uri": "https://localhost:8080/",
          "height": 36
        },
        "id": "ubEL0KsAGu0M",
        "outputId": "03e11f79-73a4-463e-eaa5-dda5439d0e9a"
      },
      "outputs": [
        {
          "output_type": "execute_result",
          "data": {
            "text/plain": [
              "'suka menonton attack on titans! (?????) setiap kamis pukul 21.00 di . meski tidak suka kekerasan, tapi cukup menikmati ?! melawan a ...'"
            ],
            "application/vnd.google.colaboratory.intrinsic+json": {
              "type": "string"
            }
          },
          "metadata": {},
          "execution_count": 27
        }
      ],
      "source": [
        "hasil"
      ]
    },
    {
      "cell_type": "markdown",
      "metadata": {
        "id": "CxkY-OXrGu0M"
      },
      "source": [
        "## remove incomplete URL <a name=\"remove-incomplete-url\"></a>"
      ]
    },
    {
      "cell_type": "code",
      "execution_count": 28,
      "metadata": {
        "id": "bsPSLHAEGu0M"
      },
      "outputs": [],
      "source": [
        "hasil = hasil.replace('http://',\"\").replace('https://',\"\")"
      ]
    },
    {
      "cell_type": "code",
      "execution_count": 29,
      "metadata": {
        "colab": {
          "base_uri": "https://localhost:8080/",
          "height": 36
        },
        "id": "4GbKLRrXGu0M",
        "outputId": "be66aa59-791a-43ec-c565-f50af410f073"
      },
      "outputs": [
        {
          "output_type": "execute_result",
          "data": {
            "text/plain": [
              "'suka menonton attack on titans! (?????) setiap kamis pukul 21.00 di . meski tidak suka kekerasan, tapi cukup menikmati ?! melawan a ...'"
            ],
            "application/vnd.google.colaboratory.intrinsic+json": {
              "type": "string"
            }
          },
          "metadata": {},
          "execution_count": 29
        }
      ],
      "source": [
        "hasil"
      ]
    },
    {
      "cell_type": "markdown",
      "metadata": {
        "id": "NG-DWj4aGu0N"
      },
      "source": [
        "## remove number <a name=\"remove-number\"></a>"
      ]
    },
    {
      "cell_type": "code",
      "execution_count": 30,
      "metadata": {
        "id": "q-97q4_EGu0N"
      },
      "outputs": [],
      "source": [
        "def remove_number(hasil):\n",
        "    return re.sub(r\"\\d+\", \"\", hasil)"
      ]
    },
    {
      "cell_type": "code",
      "execution_count": 31,
      "metadata": {
        "id": "iKzUPFQwGu0N"
      },
      "outputs": [],
      "source": [
        "hasil = remove_number(hasil)"
      ]
    },
    {
      "cell_type": "code",
      "execution_count": 32,
      "metadata": {
        "colab": {
          "base_uri": "https://localhost:8080/",
          "height": 36
        },
        "id": "cS_oEBQcGu0N",
        "outputId": "11fb3a2d-ecbd-444f-8c75-3b3ceff28e56"
      },
      "outputs": [
        {
          "output_type": "execute_result",
          "data": {
            "text/plain": [
              "'suka menonton attack on titans! (?????) setiap kamis pukul . di . meski tidak suka kekerasan, tapi cukup menikmati ?! melawan a ...'"
            ],
            "application/vnd.google.colaboratory.intrinsic+json": {
              "type": "string"
            }
          },
          "metadata": {},
          "execution_count": 32
        }
      ],
      "source": [
        "hasil"
      ]
    },
    {
      "cell_type": "markdown",
      "metadata": {
        "id": "x9YICnVgGu0N"
      },
      "source": [
        "## remove whitespace leading and trailing <a name=\"remove-whitespace-leading-and-trailing\"></a>\n",
        "\n",
        "digunakan untuk menghapus tanda spasi setelah titik pada akhir kalimat"
      ]
    },
    {
      "cell_type": "code",
      "execution_count": 33,
      "metadata": {
        "id": "Ey04XKU5Gu0N"
      },
      "outputs": [],
      "source": [
        "def remove_whitespace(hasil):\n",
        "    return hasil.strip()"
      ]
    },
    {
      "cell_type": "code",
      "execution_count": 34,
      "metadata": {
        "id": "a1HGqipXGu0N"
      },
      "outputs": [],
      "source": [
        "hasil = remove_whitespace(hasil)"
      ]
    },
    {
      "cell_type": "code",
      "execution_count": 35,
      "metadata": {
        "colab": {
          "base_uri": "https://localhost:8080/",
          "height": 53
        },
        "id": "6CFWCB3EGu0O",
        "outputId": "45d4ea54-0877-49b2-fdba-5af3a106b852"
      },
      "outputs": [
        {
          "output_type": "execute_result",
          "data": {
            "text/plain": [
              "'RT : @alzami1986 suka menonton Attack on Titans! (進撃の巨人) #aot  setiap kamis pukul 21.00 di http://netflix.com/aot . \\\\n meski tidak suka kekerasan, tapi cukup menikmati ?! #EldiaHarusMenang melawan #Marley  A ...'"
            ],
            "application/vnd.google.colaboratory.intrinsic+json": {
              "type": "string"
            }
          },
          "metadata": {},
          "execution_count": 35
        }
      ],
      "source": [
        "text"
      ]
    },
    {
      "cell_type": "code",
      "execution_count": 36,
      "metadata": {
        "colab": {
          "base_uri": "https://localhost:8080/",
          "height": 36
        },
        "id": "b4QD3brcGu0O",
        "outputId": "f26699e3-052a-49b3-a27b-f0b3164a2322"
      },
      "outputs": [
        {
          "output_type": "execute_result",
          "data": {
            "text/plain": [
              "'suka menonton attack on titans! (?????) setiap kamis pukul . di . meski tidak suka kekerasan, tapi cukup menikmati ?! melawan a ...'"
            ],
            "application/vnd.google.colaboratory.intrinsic+json": {
              "type": "string"
            }
          },
          "metadata": {},
          "execution_count": 36
        }
      ],
      "source": [
        "hasil"
      ]
    },
    {
      "cell_type": "markdown",
      "metadata": {
        "id": "wW7fnps5Gu0O"
      },
      "source": [
        "## remove multiple whitespace into single whitespace <a name=\"remove-multiple-whitespace-into-single-whitespace\"></a>"
      ]
    },
    {
      "cell_type": "code",
      "execution_count": 37,
      "metadata": {
        "id": "uUUcvLeZGu0O"
      },
      "outputs": [],
      "source": [
        "def remove_whitespace_multi(hasil):\n",
        "    return re.sub('\\s+',' ',hasil)"
      ]
    },
    {
      "cell_type": "code",
      "execution_count": 38,
      "metadata": {
        "id": "ESb6fv2-Gu0O"
      },
      "outputs": [],
      "source": [
        "hasil = remove_whitespace_multi(hasil)"
      ]
    },
    {
      "cell_type": "code",
      "execution_count": 39,
      "metadata": {
        "colab": {
          "base_uri": "https://localhost:8080/",
          "height": 36
        },
        "id": "KqWB_1CHGu0O",
        "outputId": "bf1eb0e0-8ed4-489f-b90f-aa6254357cee"
      },
      "outputs": [
        {
          "output_type": "execute_result",
          "data": {
            "text/plain": [
              "'suka menonton attack on titans! (?????) setiap kamis pukul . di . meski tidak suka kekerasan, tapi cukup menikmati ?! melawan a ...'"
            ],
            "application/vnd.google.colaboratory.intrinsic+json": {
              "type": "string"
            }
          },
          "metadata": {},
          "execution_count": 39
        }
      ],
      "source": [
        "hasil"
      ]
    },
    {
      "cell_type": "markdown",
      "metadata": {
        "id": "HYjRrc6bGu0O"
      },
      "source": [
        "## remove single char <a name=\"remove-single-char\"></a>"
      ]
    },
    {
      "cell_type": "code",
      "execution_count": 40,
      "metadata": {
        "id": "gLKZLGGFGu0O"
      },
      "outputs": [],
      "source": [
        "def remove_single_char(hasil):\n",
        "    return re.sub(r\"\\b[a-zA-Z]\\b\", \"\", hasil)"
      ]
    },
    {
      "cell_type": "code",
      "execution_count": 41,
      "metadata": {
        "id": "c-k402vPGu0P"
      },
      "outputs": [],
      "source": [
        "hasil = remove_single_char(hasil)"
      ]
    },
    {
      "cell_type": "code",
      "execution_count": 42,
      "metadata": {
        "colab": {
          "base_uri": "https://localhost:8080/",
          "height": 36
        },
        "id": "PzcdXOBVGu0P",
        "outputId": "d3a82478-fa27-4dd2-9bd9-dde4eda702bf"
      },
      "outputs": [
        {
          "output_type": "execute_result",
          "data": {
            "text/plain": [
              "'suka menonton attack on titans! (?????) setiap kamis pukul . di . meski tidak suka kekerasan, tapi cukup menikmati ?! melawan  ...'"
            ],
            "application/vnd.google.colaboratory.intrinsic+json": {
              "type": "string"
            }
          },
          "metadata": {},
          "execution_count": 42
        }
      ],
      "source": [
        "hasil"
      ]
    },
    {
      "cell_type": "markdown",
      "metadata": {
        "id": "4v5jZ-VDGu0P"
      },
      "source": [
        "## remove excessive dot <a name=\"remove-excessive-dot\"></a>"
      ]
    },
    {
      "cell_type": "code",
      "execution_count": 43,
      "metadata": {
        "id": "42RJLurtGu0P"
      },
      "outputs": [],
      "source": [
        "def remove_excessive_dot(hasil):\n",
        "    return hasil.replace('...',\" \")"
      ]
    },
    {
      "cell_type": "code",
      "execution_count": 44,
      "metadata": {
        "id": "2DrBg5qhGu0P"
      },
      "outputs": [],
      "source": [
        "hasil = remove_excessive_dot(hasil)"
      ]
    },
    {
      "cell_type": "code",
      "execution_count": 45,
      "metadata": {
        "colab": {
          "base_uri": "https://localhost:8080/",
          "height": 36
        },
        "id": "LpzfM5oUGu0P",
        "outputId": "3dbe3e44-f298-42f0-fe40-ed78c71e6f4c"
      },
      "outputs": [
        {
          "output_type": "execute_result",
          "data": {
            "text/plain": [
              "'suka menonton attack on titans! (?????) setiap kamis pukul . di . meski tidak suka kekerasan, tapi cukup menikmati ?! melawan   '"
            ],
            "application/vnd.google.colaboratory.intrinsic+json": {
              "type": "string"
            }
          },
          "metadata": {},
          "execution_count": 45
        }
      ],
      "source": [
        "hasil"
      ]
    },
    {
      "cell_type": "markdown",
      "metadata": {
        "id": "nITcUNIAGu0P"
      },
      "source": [
        "## remove punctuation <a name=\"remove-punctuation\"></a>"
      ]
    },
    {
      "cell_type": "code",
      "execution_count": 46,
      "metadata": {
        "id": "Dw8WR8LRGu0P"
      },
      "outputs": [],
      "source": [
        "def remove_punctuation(hasil):\n",
        "    return hasil.translate(str.maketrans(\"\",\"\",string.punctuation))"
      ]
    },
    {
      "cell_type": "code",
      "execution_count": 47,
      "metadata": {
        "id": "A5dPqOeHGu0Q"
      },
      "outputs": [],
      "source": [
        "hasil = remove_punctuation(hasil)"
      ]
    },
    {
      "cell_type": "code",
      "execution_count": 48,
      "metadata": {
        "colab": {
          "base_uri": "https://localhost:8080/",
          "height": 53
        },
        "id": "xe3hrzz4Gu0Q",
        "outputId": "4497acc5-f261-4066-ed52-8128f2b5c472"
      },
      "outputs": [
        {
          "output_type": "execute_result",
          "data": {
            "text/plain": [
              "'RT : @alzami1986 suka menonton Attack on Titans! (進撃の巨人) #aot  setiap kamis pukul 21.00 di http://netflix.com/aot . \\\\n meski tidak suka kekerasan, tapi cukup menikmati ?! #EldiaHarusMenang melawan #Marley  A ...'"
            ],
            "application/vnd.google.colaboratory.intrinsic+json": {
              "type": "string"
            }
          },
          "metadata": {},
          "execution_count": 48
        }
      ],
      "source": [
        "text"
      ]
    },
    {
      "cell_type": "code",
      "execution_count": 49,
      "metadata": {
        "colab": {
          "base_uri": "https://localhost:8080/",
          "height": 36
        },
        "id": "z0LR8_KgGu0Q",
        "outputId": "629bfdc5-abbe-4f0e-9cce-554fb5320993"
      },
      "outputs": [
        {
          "output_type": "execute_result",
          "data": {
            "text/plain": [
              "'suka menonton attack on titans  setiap kamis pukul  di  meski tidak suka kekerasan tapi cukup menikmati  melawan   '"
            ],
            "application/vnd.google.colaboratory.intrinsic+json": {
              "type": "string"
            }
          },
          "metadata": {},
          "execution_count": 49
        }
      ],
      "source": [
        "hasil"
      ]
    },
    {
      "cell_type": "markdown",
      "metadata": {
        "id": "4jggT9HGGu0Q"
      },
      "source": [
        "## remove excessive whitespace <a name=\"remove-excessive-whitespace\"></a>"
      ]
    },
    {
      "cell_type": "code",
      "execution_count": 50,
      "metadata": {
        "id": "J_NOCKGgGu0Q"
      },
      "outputs": [],
      "source": [
        "document = \" saya                    tidak suka sambal     bikin sakit    \""
      ]
    },
    {
      "cell_type": "code",
      "execution_count": 51,
      "metadata": {
        "id": "s5QrNwKgGu0Q"
      },
      "outputs": [],
      "source": [
        "nowhite = ' '.join(document.split())"
      ]
    },
    {
      "cell_type": "code",
      "execution_count": 52,
      "metadata": {
        "colab": {
          "base_uri": "https://localhost:8080/",
          "height": 36
        },
        "id": "zi_jbcY1Gu0Q",
        "outputId": "1280c269-7eb1-42cb-9275-04e3dfab15b4"
      },
      "outputs": [
        {
          "output_type": "execute_result",
          "data": {
            "text/plain": [
              "'saya tidak suka sambal bikin sakit'"
            ],
            "application/vnd.google.colaboratory.intrinsic+json": {
              "type": "string"
            }
          },
          "metadata": {},
          "execution_count": 52
        }
      ],
      "source": [
        "nowhite"
      ]
    }
  ],
  "metadata": {
    "kernelspec": {
      "display_name": "Python 3 (ipykernel)",
      "language": "python",
      "name": "python3"
    },
    "language_info": {
      "codemirror_mode": {
        "name": "ipython",
        "version": 3
      },
      "file_extension": ".py",
      "mimetype": "text/x-python",
      "name": "python",
      "nbconvert_exporter": "python",
      "pygments_lexer": "ipython3",
      "version": "3.9.5"
    },
    "colab": {
      "provenance": []
    }
  },
  "nbformat": 4,
  "nbformat_minor": 0
}